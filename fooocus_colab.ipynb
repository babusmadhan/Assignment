{
  "cells": [
    {
      "cell_type": "code",
      "execution_count": null,
      "metadata": {
        "id": "VjYy0F2gZIPR"
      },
      "outputs": [],
      "source": [
        "!pip install pygit2==1.15.1\n",
        "%cd /content\n",
        "!git clone https://github.com/lllyasviel/Fooocus.git\n",
        "%cd /content/Fooocus\n",
        "!python entry_with_update.py --share --always-high-vram\n"
      ]
    },
    {
      "cell_type": "code",
      "source": [
        "!pip install qrcode\n",
        "!pip install qrcode[pil] requests\n"
      ],
      "metadata": {
        "colab": {
          "base_uri": "https://localhost:8080/"
        },
        "id": "_uYHWLPawmsb",
        "outputId": "0a4efcb5-c204-45af-e008-635c85b3d435"
      },
      "execution_count": 13,
      "outputs": [
        {
          "output_type": "stream",
          "name": "stdout",
          "text": [
            "Requirement already satisfied: qrcode in /usr/local/lib/python3.11/dist-packages (8.2)\n",
            "Requirement already satisfied: requests in /usr/local/lib/python3.11/dist-packages (2.32.3)\n",
            "Requirement already satisfied: qrcode[pil] in /usr/local/lib/python3.11/dist-packages (8.2)\n",
            "Requirement already satisfied: pillow>=9.1.0 in /usr/local/lib/python3.11/dist-packages (from qrcode[pil]) (11.3.0)\n",
            "Requirement already satisfied: charset-normalizer<4,>=2 in /usr/local/lib/python3.11/dist-packages (from requests) (3.4.2)\n",
            "Requirement already satisfied: idna<4,>=2.5 in /usr/local/lib/python3.11/dist-packages (from requests) (3.10)\n",
            "Requirement already satisfied: urllib3<3,>=1.21.1 in /usr/local/lib/python3.11/dist-packages (from requests) (2.5.0)\n",
            "Requirement already satisfied: certifi>=2017.4.17 in /usr/local/lib/python3.11/dist-packages (from requests) (2025.8.3)\n"
          ]
        }
      ]
    },
    {
      "cell_type": "code",
      "source": [
        "import qrcode\n",
        "\n",
        "# Business details (unchanged)\n",
        "data = \"\"\"\n",
        "Logo & Branding Design,\n",
        "Social Media Graphics,\n",
        "Print Media Design (flyers, brochures, posters, business cards),\n",
        "Web & UI/UX Design,\n",
        "Packaging Design,\n",
        "Motion Graphics & Animation,\n",
        "Infographic Design.\n",
        "\n",
        "Contact: +91 6369 153 235, +91 90435 40373\n",
        "Location: WD-54, Anandha Bhavan Complex, Second floor,\n",
        "17/52, Puthur High Rd, Tiruchirappalli, Tamil Nadu - 620017\n",
        "Email: support@mediawavetech.com\n",
        "Website: www.mediawavetech.com\n",
        "\n",
        "Creative design solutions for branding, marketing, and digital presence.\n",
        "\"\"\"\n",
        "\n",
        "# Create a smaller, normal QR code\n",
        "qr = qrcode.QRCode(\n",
        "    version=4,  # Smaller QR code\n",
        "    error_correction=qrcode.constants.ERROR_CORRECT_M,  # Medium error correction (normal usage)\n",
        "    box_size=3,  # Smaller box size\n",
        "    border=2,  # Thinner border\n",
        ")\n",
        "\n",
        "qr.add_data(data)\n",
        "qr.make(fit=True)\n",
        "\n",
        "# Generate QR code image\n",
        "img = qr.make_image(fill_color=\"black\", back_color=\"white\")\n",
        "\n",
        "# Save QR code image\n",
        "img.save(\"mediawavetech_qr_small.png\")\n",
        "\n",
        "print(\"✅ Smaller QR code generated and saved as 'mediawavetech_qr_small.png'\")\n"
      ],
      "metadata": {
        "colab": {
          "base_uri": "https://localhost:8080/"
        },
        "id": "xmF4k8GQwPxA",
        "outputId": "323b13a4-d236-4748-d031-c7dada025578"
      },
      "execution_count": 12,
      "outputs": [
        {
          "output_type": "stream",
          "name": "stdout",
          "text": [
            "✅ Smaller QR code generated and saved as 'mediawavetech_qr_small.png'\n"
          ]
        }
      ]
    },
    {
      "cell_type": "code",
      "source": [
        "import qrcode\n",
        "\n",
        "# Short link to embed (replace with your own shortened URL)\n",
        "short_url = \"https://bit.ly/mediawave\"\n",
        "data = \"\"\"\n",
        "Logo & Branding Design,\n",
        "Social Media Graphics,\n",
        "Print Media Design (flyers, brochures, posters, business cards),\n",
        "Web & UI/UX Design,\n",
        "Packaging Design,\n",
        "Motion Graphics & Animation,\n",
        "Infographic Design.\n",
        "\n",
        "Contact: +91 6369 153 235, +91 90435 40373\n",
        "Location: WD-54, Anandha Bhavan Complex, Second floor,\n",
        "17/52, Puthur High Rd, Tiruchirappalli, Tamil Nadu - 620017\n",
        "Email: support@mediawavetech.com\n",
        "Website: www.mediawavetech.com\n",
        "\n",
        "Creative design solutions for branding, marketing, and digital presence.\n",
        "\"\"\"\n",
        "# Create a small clean QR code\n",
        "qr = qrcode.QRCode(\n",
        "    version=1,  # smallest QR for short data\n",
        "    error_correction=qrcode.constants.ERROR_CORRECT_M,\n",
        "    box_size=8,  # block size\n",
        "    border=2,    # thin border\n",
        ")\n",
        "qr.add_data(data)\n",
        "qr.make(fit=True)\n",
        "\n",
        "# Generate and save the QR code image\n",
        "img = qr.make_image(fill_color=\"black\", back_color=\"white\")\n",
        "img.save(\"short_qr.png\")\n",
        "\n",
        "print(\"✅ Short QR code saved as 'short_qr.png'\")\n"
      ],
      "metadata": {
        "colab": {
          "base_uri": "https://localhost:8080/"
        },
        "id": "G-tFMVl23SOL",
        "outputId": "9ffd144a-eec4-4fd3-a356-f3ae3360e9fd"
      },
      "execution_count": 15,
      "outputs": [
        {
          "output_type": "stream",
          "name": "stdout",
          "text": [
            "✅ Short QR code saved as 'short_qr.png'\n"
          ]
        }
      ]
    }
  ],
  "metadata": {
    "accelerator": "GPU",
    "colab": {
      "gpuType": "T4",
      "provenance": []
    },
    "kernelspec": {
      "display_name": "Python 3",
      "name": "python3"
    },
    "language_info": {
      "name": "python"
    }
  },
  "nbformat": 4,
  "nbformat_minor": 0
}